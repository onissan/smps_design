{
 "cells": [
  {
   "cell_type": "code",
   "execution_count": 61,
   "metadata": {},
   "outputs": [],
   "source": [
    "# Import necessary libraries for the project and define output format\n",
    "\n",
    "from astropy import units as u\n",
    "import numpy as np\n",
    "\n",
    "from ipywidgets import interact, interactive, fixed, interact_manual, Layout, Box\n",
    "import ipywidgets as widgets\n",
    "from IPython.display import Math\n",
    "\n",
    "from scipy import signal\n",
    "import matplotlib.pyplot as plt\n",
    "\n",
    "f = '{0:0.1f}'.format\n",
    "\n",
    "# V_out = 32 * u.V\n",
    "# I_out = 0.5 * u.A\n",
    "# V_inmax = 50 * u.V\n",
    "# V_inmin = 34 * u.V\n",
    "# V_in = 40 * u.V\n",
    "\n",
    "# I_ripplemax = 0.5 * I_out\n",
    "# V_in_ripple_max = 100 * u.mV\n",
    "# V_out_ripple_max = 200 * u.mV\n",
    "\n",
    "# f_sw = 350 * u.kHz\n",
    "# L_out = 220 * u.uH"
   ]
  },
  {
   "cell_type": "code",
   "execution_count": 73,
   "metadata": {
    "scrolled": true
   },
   "outputs": [
    {
     "data": {
      "application/vnd.jupyter.widget-view+json": {
       "model_id": "65dad08c4390417e9b161adf7266b13b",
       "version_major": 2,
       "version_minor": 0
      },
      "text/plain": [
       "Box(children=(Box(children=(Select(description='Converter Choice:', options=('Buck (Step-down)', 'Boost (Step-…"
      ]
     },
     "metadata": {},
     "output_type": "display_data"
    }
   ],
   "source": [
    "# This is a container to \n",
    "\n",
    "style = {'description_width': 'initial'}\n",
    "\n",
    "smps_I_out  = widgets.Text(\n",
    "    value='0.5',\n",
    "    placeholder='In A',\n",
    "    description='Output Current:',\n",
    "    style=style\n",
    ")\n",
    "\n",
    "smps_v_in = widgets.Text(\n",
    "    value = '40',\n",
    "    placeholder='In V',\n",
    "    description='Input Voltage:',\n",
    "    style=style\n",
    ")\n",
    "\n",
    "smps_v_out  = widgets.Text(\n",
    "    value='32',\n",
    "    placeholder='In V',\n",
    "    description='Output Voltage:',\n",
    "    style=style\n",
    ")\n",
    "\n",
    "smps_v_in_min = widgets.Text(\n",
    "    value='34',\n",
    "    placeholder='In V',\n",
    "    description='Minimum Input Voltage:',\n",
    "    style=style\n",
    ")\n",
    "\n",
    "smps_v_in_max = widgets.Text(\n",
    "    value='50',\n",
    "    placeholder='In Volts',\n",
    "    description='Maximum Input Voltage:',\n",
    "    style=style\n",
    ")\n",
    "\n",
    "smps_v_in_ripple = widgets.Text(\n",
    "    value='100',\n",
    "    placeholder='In mV',\n",
    "    description='Input Voltage Ripple:',\n",
    "    width='20%',    \n",
    "    style=style\n",
    ")\n",
    "\n",
    "smps_v_out_ripple  = widgets.Text(\n",
    "    value='200',\n",
    "    placeholder='In mV',\n",
    "    description='Output Voltage Ripple:',\n",
    "    width='20%',\n",
    "    style=style\n",
    ")\n",
    "\n",
    "smps_i_out_ripple_precent  = widgets.Text(\n",
    "    value='50',\n",
    "    placeholder='In %',\n",
    "    description='Output Current Ripple Precent:',\n",
    "    width='20%',\n",
    "    style=style\n",
    ")\n",
    "\n",
    "smps_freq = widgets.IntSlider(\n",
    "    value=350,\n",
    "    min=100,\n",
    "    max=1000,\n",
    "    step=10,\n",
    "    description='SMPS Switching Frequency:',\n",
    "#     disabled=False,\n",
    "    continuous_update=False,\n",
    "    orientation='horizontal',\n",
    "    readout=True,\n",
    "    readout_format='d',\n",
    "    style=style\n",
    ")\n",
    "\n",
    "smps_vref  = widgets.Text(\n",
    "    value='1.223',\n",
    "    placeholder='In V',\n",
    "    description='Refrence Voltage into the Comperator:',\n",
    "    width='20%',\n",
    "    style=style\n",
    ")\n",
    "\n",
    "smps_choice = widgets.Select(\n",
    "    options=['Buck (Step-down)', 'Boost (Step-up)'],\n",
    "    rows=7,\n",
    "    description='Converter Choice:',\n",
    "    style=style,\n",
    "    width='1000px'\n",
    ")\n",
    "\n",
    "controle_scheme = widgets.Select(\n",
    "    options=['Voltage Mode', 'Current Mode', 'Hysteretic-Mode/D-Cap'],\n",
    "    rows=7,\n",
    "    description='Control Scheme:', \n",
    "    style=style\n",
    ")\n",
    "\n",
    "form_item_layout = Layout(\n",
    "    display='flex',\n",
    "    flex_flow='row',\n",
    "    justify_content='space-between'\n",
    ")\n",
    "\n",
    "box_layout_1 = Layout(display='flex',\n",
    "                    flex_flow='column',\n",
    "                    align_items='stretch',\n",
    "                    width='90%')\n",
    "\n",
    "in_out_params = Box([smps_v_in,smps_v_out,smps_v_in_max,smps_v_in_min,smps_I_out], layout=box_layout_1)\n",
    "\n",
    "form_items = [\n",
    "    Box([smps_choice,controle_scheme,in_out_params], layout=form_item_layout),\n",
    "    Box([smps_v_in_ripple,smps_v_out_ripple,smps_i_out_ripple_precent], layout=form_item_layout),\n",
    "    Box([smps_freq,smps_vref])\n",
    "]\n",
    "\n",
    "form = Box(form_items, layout=Layout(\n",
    "    display='flex',\n",
    "    flex_flow='column',\n",
    "    border='solid 2px',\n",
    "    align_items='stretch',\n",
    "    width='100%'\n",
    "))\n",
    "form"
   ]
  },
  {
   "cell_type": "code",
   "execution_count": 76,
   "metadata": {},
   "outputs": [
    {
     "name": "stdout",
     "output_type": "stream",
     "text": [
      "You choose to design a Boost (Step-up). The control scheme associated with your design is a Voltage Mode \n",
      "\n",
      "Output Current Entered: 0.5 A\n",
      "Input Volatge Entered: 40 V\n",
      "Output Volatge Entered: 32 V\n",
      "Input Volatge may range from 34 V to 50 V\n",
      "Input Volatge Ripple Entered: 100 mV\n",
      "Output Volatge Ripple Entered: 200 mV\n",
      "Maximum Output Current Ripple Entered: 0.25 A\n",
      "Switching Frequency Entered: 350.0 kHz\n",
      "The Comperator Refrence voltage Entered: 1.223 V\n"
     ]
    }
   ],
   "source": [
    "# This container saves all user inputs into veriables to be used in this script\n",
    "\n",
    "smps_choice_value = smps_choice.value\n",
    "controle_scheme_value = controle_scheme.value\n",
    "\n",
    "I_out = smps_I_out.value * u.A\n",
    "V_in = smps_v_in.value * u.V\n",
    "V_out = smps_v_out.value * u.V\n",
    "V_inmax = smps_v_in_max.value * u.V\n",
    "V_inmin = smps_v_in_min.value * u.V\n",
    "V_in_ripple_max = smps_v_in_ripple.value * u.mV\n",
    "V_out_ripple_max = smps_v_out_ripple.value * u.mV\n",
    "I_ripplemax = ((float(smps_i_out_ripple_precent.value)/100)* float(smps_I_out.value)) * u.A\n",
    "\n",
    "f_sw = smps_freq.value * u.kHz\n",
    "V_ref = smps_vref.value * u.V\n",
    "\n",
    "print ('You choose to design a %s. The control scheme associated with your design is a %s \\n'\n",
    "       % (smps_choice_value, controle_scheme_value))\n",
    "\n",
    "print('Output Current Entered:', I_out)\n",
    "\n",
    "print('Input Volatge Entered:', V_in)\n",
    "\n",
    "print('Output Volatge Entered:', V_out)\n",
    "\n",
    "print('Input Volatge may range from', V_inmin, 'to', V_inmax)\n",
    "\n",
    "print('Input Volatge Ripple Entered:', V_in_ripple_max)\n",
    "\n",
    "print('Output Volatge Ripple Entered:', V_out_ripple_max)\n",
    "\n",
    "print('Maximum Output Current Ripple Entered:', I_ripplemax)\n",
    "\n",
    "print('Switching Frequency Entered:', f_sw)\n",
    "\n",
    "print('The Comperator Refrence voltage Entered:', V_ref)\n"
   ]
  },
  {
   "cell_type": "code",
   "execution_count": 9,
   "metadata": {
    "scrolled": false
   },
   "outputs": [
    {
     "name": "stdout",
     "output_type": "stream",
     "text": [
      "You choose to design a Buck (Step-down). The control scheme associated with your design is: Voltage Mode \n",
      "\n",
      "-------------------------------------------------------------------------------------------------------\n",
      "DEFINING EQUATIONS:\n"
     ]
    },
    {
     "data": {
      "text/latex": [
       "$\\displaystyle D = V_{out}/V_{in}$"
      ],
      "text/plain": [
       "<IPython.core.display.Math object>"
      ]
     },
     "metadata": {},
     "output_type": "display_data"
    },
    {
     "data": {
      "text/latex": [
       "$\\displaystyle \\Delta i = \\frac {(V_{IN(max)}-V_{out})\\times D} {f_s \\times L}$"
      ],
      "text/plain": [
       "<IPython.core.display.Math object>"
      ]
     },
     "metadata": {},
     "output_type": "display_data"
    },
    {
     "data": {
      "text/latex": [
       "$\\displaystyle I_{maxout} = I_{LIM(min)}-\\frac{\\Delta i_L}{2}$"
      ],
      "text/plain": [
       "<IPython.core.display.Math object>"
      ]
     },
     "metadata": {},
     "output_type": "display_data"
    },
    {
     "data": {
      "text/latex": [
       "$\\displaystyle I_{SW(max)} = \\frac{\\Delta i_L}{2}+I_{OUT(max)}$"
      ],
      "text/plain": [
       "<IPython.core.display.Math object>"
      ]
     },
     "metadata": {},
     "output_type": "display_data"
    },
    {
     "name": "stdout",
     "output_type": "stream",
     "text": [
      "DESIGN INDUCTOR:\n"
     ]
    },
    {
     "data": {
      "text/latex": [
       "$\\displaystyle  L= \\frac {(V_{IN(max)}-V_{out})\\times V_{out}} {V_{in} \\times f_s \\times \\Delta i }$"
      ],
      "text/plain": [
       "<IPython.core.display.Math object>"
      ]
     },
     "metadata": {},
     "output_type": "display_data"
    },
    {
     "data": {
      "text/latex": [
       "$\\displaystyle \\Delta i = (0.2\\ to\\ 0.4) \\times I_{OUT(max)}$"
      ],
      "text/plain": [
       "<IPython.core.display.Math object>"
      ]
     },
     "metadata": {},
     "output_type": "display_data"
    },
    {
     "name": "stdout",
     "output_type": "stream",
     "text": [
      "DESIGN OUTPUT CAPCITOR:\n"
     ]
    },
    {
     "data": {
      "text/latex": [
       "$\\displaystyle  C_{OUT(min)}=  \\frac {\\Delta i} {8 \\times f_s \\times V_{out}}$"
      ],
      "text/plain": [
       "<IPython.core.display.Math object>"
      ]
     },
     "metadata": {},
     "output_type": "display_data"
    },
    {
     "name": "stdout",
     "output_type": "stream",
     "text": [
      "DESIGN INPUT CAPCITOR:\n"
     ]
    },
    {
     "data": {
      "text/latex": [
       "$\\displaystyle  C_{in(min)}=  \\frac {} {}$"
      ],
      "text/plain": [
       "<IPython.core.display.Math object>"
      ]
     },
     "metadata": {},
     "output_type": "display_data"
    },
    {
     "name": "stdout",
     "output_type": "stream",
     "text": [
      "DESIGN DIODE (IF NECESSARY):\n"
     ]
    }
   ],
   "source": [
    "if converter_choice_value == 'Buck (Step-down)':\n",
    "    print('DEFINING EQUATIONS:')\n",
    "    display(Math(r'D = V_{out}/V_{in}'))\n",
    "    display(Math(r'\\Delta i = \\frac {(V_{IN(max)}-V_{out})\\times D} {f_s \\times L}'))\n",
    "    display(Math(r'I_{maxout} = I_{LIM(min)}-\\frac{\\Delta i_L}{2}'))\n",
    "    display(Math(r'I_{SW(max)} = \\frac{\\Delta i_L}{2}+I_{OUT(max)}'))\n",
    "\n",
    "    print('DESIGN INDUCTOR:')\n",
    "    display(Math(r' L= \\frac {(V_{IN(max)}-V_{out})\\times V_{out}} {V_{in} \\times f_s \\times \\Delta i }'))\n",
    "    display(Math(r'\\Delta i = (0.2\\ to\\ 0.4) \\times I_{OUT(max)}'))\n",
    "\n",
    "    print('DESIGN OUTPUT CAPCITOR:')\n",
    "    display(Math(r' C_{OUT(min)}=  \\frac {\\Delta i} {8 \\times f_s \\times V_{out}}'))\n",
    "    #used euqations from \"http://www.ti.com/lit/an/slva477b/slva477b.pdf\"\n",
    "\n",
    "    print('DESIGN INPUT CAPCITOR:')\n",
    "    display(Math(r' C_{in(min)}=  \\frac {} {}'))\n",
    "\n",
    "\n",
    "    print('DESIGN DIODE (IF NECESSARY):')\n",
    "\n",
    "elif converter_choice_value=='Boost (Step-up)':\n",
    "    print('DEFINING EQUATIONS:')\n",
    "    display(Math(r'D = 1- \\frac {V_{in}} {V_{out}}'))\n",
    "    display(Math(r'\\Delta i = \\frac {(V_{IN(max)})\\times D} {f_s \\times L}'))\n",
    "    display(Math(r'I_{maxout} = (I_{LIM(min)}-\\frac{\\Delta i_L}{2})\\times (1-D)'))\n",
    "    display(Math(r'I_{SW(max)} = \\frac{\\Delta i_L}{2}+\\frac{I_{OUT(max)}}{1-D}'))\n",
    "\n",
    "    print('DESIGN INDUCTOR:')\n",
    "    display(Math(r' L= \\frac {(V_{out}-V_{in})\\times V_{in}} {V_{out} \\times f_s \\times \\Delta i }'))\n",
    "    display(Math(r'\\Delta i = (0.2\\ to\\ 0.4) \\times I_{OUT(max)} \\times \\frac {V_{out}} {V_{in}}'))\n",
    "\n",
    "    print('DESIGN OUTPUT CAPCITOR:')\n",
    "    display(Math(r' C_{OUT(min)}=  \\frac {I_{OUT(max)}\\times D} {f_s \\times \\Delta V_{out}}'))\n",
    "    #used euqations from \"http://www.ti.com/lit/an/slva372c/slva372c.pdf\"\n",
    "\n",
    "    print('DESIGN INPUT CAPCITOR:')\n",
    "    display(Math(r' C_{in(min)}=  \\frac {} {}'))\n",
    "\n",
    "\n",
    "    print('DESIGN DIODE (IF NECESSARY):')\n",
    "\n"
   ]
  },
  {
   "cell_type": "code",
   "execution_count": 10,
   "metadata": {},
   "outputs": [
    {
     "name": "stdout",
     "output_type": "stream",
     "text": [
      "R_fb2 (R_fbb): 39.7 kOhm\n",
      "V_out w/ error: 32.4 V\n"
     ]
    }
   ],
   "source": [
    "# Feedback network\n",
    "V_fb = 1.223 * u.V\n",
    "R_fb1 = 1 * u.MOhm\n",
    "R_fb2 = V_fb / (V_out - V_fb) * R_fb1\n",
    "print('R_fb2 (R_fbb):', f(R_fb2.to(u.kOhm)))\n",
    "\n",
    "R_fb2_closest = 39.2 * u.kOhm\n",
    "V_out_actual = V_fb / (R_fb2_closest / (R_fb1 + R_fb2_closest))\n",
    "print('V_out w/ error:', f(V_out_actual.to(u.V)))"
   ]
  },
  {
   "cell_type": "code",
   "execution_count": 12,
   "metadata": {},
   "outputs": [
    {
     "name": "stdout",
     "output_type": "stream",
     "text": [
      "Output capacitor: 4.7 uF\n",
      "R_esr: 0.2 Ohm\n",
      "Feed-forward capacitor: 11.9 pF\n"
     ]
    }
   ],
   "source": [
    "# Feedback ripple generator\n",
    "C_out = 4.7 * u.uF\n",
    "# C_out = I_ripplemax / (8 * f_sw * V_out_ripple_max)\n",
    "print('Output capacitor:', f(C_out.to(u.uF)))\n",
    "\n",
    "R_esr1 = V_out / (2 * V_in * f_sw * C_out)\n",
    "R_esr2 = 20 * u.mV / I_ripplemax\n",
    "R_esr = max(R_esr1, R_esr2)\n",
    "print('R_esr:', f(R_esr.to(u.Ohm)))\n",
    "C_ff = 1 / (2 * np.pi * f_sw * (R_fb1 ** -1 + R_fb2 ** -1) ** -1)\n",
    "print('Feed-forward capacitor:', f(C_ff.to(u.pF)))"
   ]
  },
  {
   "cell_type": "code",
   "execution_count": 13,
   "metadata": {},
   "outputs": [
    {
     "name": "stdout",
     "output_type": "stream",
     "text": [
      "Selected output inductor value: 220.0 uH\n",
      "Output inductor ripple curent: 149.6 mA\n",
      "Output inductor peak current: 574.8 mA\n"
     ]
    }
   ],
   "source": [
    "# Output Inductor\n",
    "# L_out = V_out / (f_sw * I_ripplemax) * (1 - V_out / V_in)\n",
    "print('Selected output inductor value:', f(L_out.to(u.uH)))\n",
    "I_L_ripple = V_out / (f_sw * L_out) * (1 - V_out / V_inmax)\n",
    "I_L_peak = I_out + I_L_ripple / 2\n",
    "print('Output inductor ripple curent:', f(I_L_ripple.to(u.mA)))\n",
    "print('Output inductor peak current:', f(I_L_peak.to(u.mA)))"
   ]
  },
  {
   "cell_type": "code",
   "execution_count": 17,
   "metadata": {},
   "outputs": [
    {
     "name": "stdout",
     "output_type": "stream",
     "text": [
      "Expected output voltage ripple: 38.1 mV\n",
      "Calculated input capacitor: -6.0 uF\n",
      "Expected input ripple: 100.0 mV\n"
     ]
    }
   ],
   "source": [
    "# Output capacitor\n",
    "V_out_ripple = I_L_ripple * np.sqrt(R_esr ** 2 + (1 / (8 * f_sw * C_out)) ** 2)\n",
    "print('Expected output voltage ripple:', f(V_out_ripple.to(u.mV)))\n",
    "\n",
    "D = 0.9\n",
    "C_in = I_out * D * (1 - D) / (f_sw * (V_in_ripple_max - I_out * R_esr))\n",
    "#C_in = 2.2 * u.uF\n",
    "print('Calculated input capacitor:', f(C_in.to(u.uF)))\n",
    "V_in_ripple = I_out * D * (1 - D) / (f_sw * C_in) + I_out * R_esr\n",
    "print('Expected input ripple:', f(V_in_ripple.to(u.mV)))"
   ]
  },
  {
   "cell_type": "code",
   "execution_count": 18,
   "metadata": {},
   "outputs": [
    {
     "data": {
      "image/png": "[encoded data removed]",
      "text/plain": [
       "<Figure size 432x288 with 1 Axes>"
      ]
     },
     "metadata": {
      "needs_background": "light"
     },
     "output_type": "display_data"
    },
    {
     "data": {
      "image/png": "[encoded data removed]",
      "text/plain": [
       "<Figure size 432x288 with 1 Axes>"
      ]
     },
     "metadata": {
      "needs_background": "light"
     },
     "output_type": "display_data"
    }
   ],
   "source": [
    "# Will print \n",
    "\n",
    "s1 = signal.lti([1], [1, 1])\n",
    "w, mag, phase = signal.bode(s1)\n",
    "\n",
    "\n",
    "plt.figure()\n",
    "plt.semilogx(w, mag)    # Bode magnitude plot\n",
    "plt.figure()\n",
    "plt.semilogx(w, phase)  # Bode phase plot\n",
    "plt.show()"
   ]
  },
  {
   "cell_type": "code",
   "execution_count": 16,
   "metadata": {},
   "outputs": [],
   "source": [
    "# Compensation \n",
    "\n",
    "# VOLTAGE MODE\n",
    "# http://www.ti.com/lit/an/slva301/slva301.pdf - Buck\n",
    "# http://www.ti.com/lit/an/slva633/slva633.pdf - Boost\n",
    "\n",
    "# Current Mode \n",
    "# http://www.ti.com.cn/cn/lit/an/snva555/snva555.pdf - BOTH\n",
    "# http://www.ti.com/lit/an/slva636/slva636.pdf - Boost\n",
    "# http://www.ti.com/lit/an/slvae09/slvae09.pdf - Buck\n",
    "\n",
    "# D-CAP\n",
    "# More info: https://www.powerelectronics.com/dc-dc-converters/hysteretic-mode-converters-demystified-part-1"
   ]
  },
  {
   "cell_type": "code",
   "execution_count": null,
   "metadata": {},
   "outputs": [],
   "source": []
  }
 ],
 "metadata": {
  "kernelspec": {
   "display_name": "Python 3",
   "language": "python",
   "name": "python3"
  },
  "language_info": {
   "codemirror_mode": {
    "name": "ipython",
    "version": 3
   },
   "file_extension": ".py",
   "mimetype": "text/x-python",
   "name": "python",
   "nbconvert_exporter": "python",
   "pygments_lexer": "ipython3",
   "version": "3.7.1"
  }
 },
 "nbformat": 4,
 "nbformat_minor": 2
}
